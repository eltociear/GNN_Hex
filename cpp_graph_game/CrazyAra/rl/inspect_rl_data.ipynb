{
 "cells": [
  {
   "cell_type": "code",
   "execution_count": 3,
   "id": "33e33ec3",
   "metadata": {},
   "outputs": [],
   "source": [
    "import torch\n",
    "import os"
   ]
  },
  {
   "cell_type": "code",
   "execution_count": 17,
   "id": "a17025f3",
   "metadata": {},
   "outputs": [
    {
     "data": {
      "text/plain": [
       "['value.pt',\n",
       " 'best_q.pt',\n",
       " 'edge_indices.pt',\n",
       " 'node_features.pt',\n",
       " 'game_start_ptr.pt',\n",
       " 'plys.pt',\n",
       " 'policy.pt',\n",
       " 'board_indices.pt']"
      ]
     },
     "execution_count": 17,
     "metadata": {},
     "output_type": "execute_result"
    }
   ],
   "source": [
    "datafolder = \"../../build/data/traindata1\"\n",
    "os.listdir(datafolder)"
   ]
  },
  {
   "cell_type": "code",
   "execution_count": 28,
   "id": "ddb75bcb",
   "metadata": {},
   "outputs": [],
   "source": [
    "node_features = list(torch.jit.load(os.path.join(datafolder,\"node_features.pt\")).parameters())\n",
    "edge_indices = list(torch.jit.load(os.path.join(datafolder,\"edge_indices.pt\")).parameters())\n",
    "policy = list(torch.jit.load(os.path.join(datafolder,\"policy.pt\")).parameters())\n",
    "value = next(torch.jit.load(os.path.join(datafolder,\"value.pt\")).parameters())\n",
    "best_q = next(torch.jit.load(os.path.join(datafolder,\"best_q.pt\")).parameters())\n",
    "game_start_ptr = next(torch.jit.load(os.path.join(datafolder,\"game_start_ptr.pt\")).parameters())\n",
    "plys = next(torch.jit.load(os.path.join(datafolder,\"plys.pt\")).parameters())\n",
    "board_indices = list(torch.jit.load(os.path.join(datafolder,\"board_indices.pt\")).parameters())\n"
   ]
  },
  {
   "cell_type": "code",
   "execution_count": 33,
   "id": "bd4873a9",
   "metadata": {},
   "outputs": [
    {
     "data": {
      "text/plain": [
       "torch.float32"
      ]
     },
     "execution_count": 33,
     "metadata": {},
     "output_type": "execute_result"
    }
   ],
   "source": [
    "node_features[0].dtype"
   ]
  },
  {
   "cell_type": "code",
   "execution_count": 15,
   "id": "167843ed",
   "metadata": {},
   "outputs": [],
   "source": [
    "assert len(node_features)==len(edge_indices)==len(policy)==len(value)==len(best_q)==len(plys)!=len(game_start_ptr)"
   ]
  },
  {
   "cell_type": "code",
   "execution_count": 9,
   "id": "beb9692d",
   "metadata": {},
   "outputs": [
    {
     "data": {
      "text/plain": [
       "[(tensor(7, dtype=torch.int32), tensor(1, dtype=torch.int8)),\n",
       " (tensor(6, dtype=torch.int32), tensor(-1, dtype=torch.int8)),\n",
       " (tensor(5, dtype=torch.int32), tensor(1, dtype=torch.int8)),\n",
       " (tensor(4, dtype=torch.int32), tensor(-1, dtype=torch.int8)),\n",
       " (tensor(3, dtype=torch.int32), tensor(1, dtype=torch.int8)),\n",
       " (tensor(2, dtype=torch.int32), tensor(-1, dtype=torch.int8)),\n",
       " (tensor(1, dtype=torch.int32), tensor(1, dtype=torch.int8)),\n",
       " (tensor(7, dtype=torch.int32), tensor(1, dtype=torch.int8)),\n",
       " (tensor(6, dtype=torch.int32), tensor(-1, dtype=torch.int8)),\n",
       " (tensor(5, dtype=torch.int32), tensor(1, dtype=torch.int8)),\n",
       " (tensor(4, dtype=torch.int32), tensor(-1, dtype=torch.int8)),\n",
       " (tensor(3, dtype=torch.int32), tensor(1, dtype=torch.int8)),\n",
       " (tensor(2, dtype=torch.int32), tensor(-1, dtype=torch.int8)),\n",
       " (tensor(1, dtype=torch.int32), tensor(1, dtype=torch.int8)),\n",
       " (tensor(8, dtype=torch.int32), tensor(-1, dtype=torch.int8)),\n",
       " (tensor(7, dtype=torch.int32), tensor(1, dtype=torch.int8)),\n",
       " (tensor(6, dtype=torch.int32), tensor(-1, dtype=torch.int8)),\n",
       " (tensor(5, dtype=torch.int32), tensor(1, dtype=torch.int8)),\n",
       " (tensor(4, dtype=torch.int32), tensor(-1, dtype=torch.int8)),\n",
       " (tensor(3, dtype=torch.int32), tensor(1, dtype=torch.int8)),\n",
       " (tensor(2, dtype=torch.int32), tensor(-1, dtype=torch.int8)),\n",
       " (tensor(1, dtype=torch.int32), tensor(1, dtype=torch.int8)),\n",
       " (tensor(5, dtype=torch.int32), tensor(1, dtype=torch.int8)),\n",
       " (tensor(4, dtype=torch.int32), tensor(-1, dtype=torch.int8)),\n",
       " (tensor(3, dtype=torch.int32), tensor(1, dtype=torch.int8)),\n",
       " (tensor(2, dtype=torch.int32), tensor(-1, dtype=torch.int8)),\n",
       " (tensor(1, dtype=torch.int32), tensor(1, dtype=torch.int8)),\n",
       " (tensor(8, dtype=torch.int32), tensor(-1, dtype=torch.int8)),\n",
       " (tensor(7, dtype=torch.int32), tensor(1, dtype=torch.int8)),\n",
       " (tensor(6, dtype=torch.int32), tensor(-1, dtype=torch.int8)),\n",
       " (tensor(5, dtype=torch.int32), tensor(1, dtype=torch.int8)),\n",
       " (tensor(4, dtype=torch.int32), tensor(-1, dtype=torch.int8)),\n",
       " (tensor(3, dtype=torch.int32), tensor(1, dtype=torch.int8)),\n",
       " (tensor(2, dtype=torch.int32), tensor(-1, dtype=torch.int8)),\n",
       " (tensor(1, dtype=torch.int32), tensor(1, dtype=torch.int8))]"
      ]
     },
     "execution_count": 9,
     "metadata": {},
     "output_type": "execute_result"
    }
   ],
   "source": [
    "list(zip(plys,value))"
   ]
  }
 ],
 "metadata": {
  "kernelspec": {
   "display_name": "Python 3 (ipykernel)",
   "language": "python",
   "name": "python3"
  },
  "language_info": {
   "codemirror_mode": {
    "name": "ipython",
    "version": 3
   },
   "file_extension": ".py",
   "mimetype": "text/x-python",
   "name": "python",
   "nbconvert_exporter": "python",
   "pygments_lexer": "ipython3",
   "version": "3.8.13"
  }
 },
 "nbformat": 4,
 "nbformat_minor": 5
}
